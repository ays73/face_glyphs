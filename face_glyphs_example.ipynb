{
 "cells": [
  {
   "cell_type": "code",
   "execution_count": 1,
   "metadata": {},
   "outputs": [],
   "source": [
    "from face_glyphs import FaceGlyph\n",
    "from sklearn import datasets\n",
    "import pandas as pd\n",
    "import numpy as np\n",
    "import matplotlib.pyplot as plt"
   ]
  },
  {
   "cell_type": "code",
   "execution_count": 2,
   "metadata": {},
   "outputs": [],
   "source": [
    "pd.options.mode.chained_assignment = None"
   ]
  },
  {
   "cell_type": "markdown",
   "metadata": {},
   "source": [
    "# Iris dataset"
   ]
  },
  {
   "cell_type": "code",
   "execution_count": 3,
   "metadata": {},
   "outputs": [],
   "source": [
    "ds = datasets.load_iris()\n",
    "\n",
    "iris = pd.DataFrame(\n",
    "    ds.data, \n",
    "    columns=ds.feature_names\n",
    "    )\n",
    "\n",
    "iris['target'] = ds.target\n",
    "\n",
    "# Map targets to target names\n",
    "target_names = {\n",
    "    0:'setosa',\n",
    "    1:'versicolor', \n",
    "    2:'virginica'\n",
    "}\n",
    "\n",
    "iris['target_names'] = iris['target'].map(target_names)"
   ]
  },
  {
   "cell_type": "code",
   "execution_count": 4,
   "metadata": {},
   "outputs": [
    {
     "name": "stdout",
     "output_type": "stream",
     "text": [
      "\\faceglyph{0}{0}{0.194}{0}{0}{0.625}{\\neutral}\n"
     ]
    }
   ],
   "source": [
    "glyph = FaceGlyph()\n",
    "glyph.add_data(data=iris, eye_size = 'sepal length (cm)', mouth = 'sepal width (cm)')\n",
    "glyph.latex(43)"
   ]
  },
  {
   "cell_type": "markdown",
   "metadata": {},
   "source": [
    "# World literacy rate"
   ]
  },
  {
   "cell_type": "code",
   "execution_count": 5,
   "metadata": {},
   "outputs": [],
   "source": [
    "literacy = pd.read_csv(\"cross-country-literacy-rates.csv\")\n",
    "literacy_example = literacy.iloc[[0,10,20,25,26,43]]\n",
    "lit_rate = np.array(list(literacy_example[\"Literacy rate\"]))\n",
    "litercay_ex_next = lit_rate[1:]\n",
    "literacy_ex_this = lit_rate[:-1]\n",
    "literacy_ex_change = np.concatenate((np.zeros(1), litercay_ex_next-literacy_ex_this))\n",
    "literacy_example[\"change\"] = literacy_ex_change"
   ]
  },
  {
   "cell_type": "code",
   "execution_count": 6,
   "metadata": {},
   "outputs": [
    {
     "data": {
      "text/html": [
       "<div>\n",
       "<style scoped>\n",
       "    .dataframe tbody tr th:only-of-type {\n",
       "        vertical-align: middle;\n",
       "    }\n",
       "\n",
       "    .dataframe tbody tr th {\n",
       "        vertical-align: top;\n",
       "    }\n",
       "\n",
       "    .dataframe thead th {\n",
       "        text-align: right;\n",
       "    }\n",
       "</style>\n",
       "<table border=\"1\" class=\"dataframe\">\n",
       "  <thead>\n",
       "    <tr style=\"text-align: right;\">\n",
       "      <th></th>\n",
       "      <th>Entity</th>\n",
       "      <th>Code</th>\n",
       "      <th>Year</th>\n",
       "      <th>Literacy rate</th>\n",
       "      <th>change</th>\n",
       "    </tr>\n",
       "  </thead>\n",
       "  <tbody>\n",
       "    <tr>\n",
       "      <th>0</th>\n",
       "      <td>World</td>\n",
       "      <td>OWID_WRL</td>\n",
       "      <td>1980</td>\n",
       "      <td>67.84755</td>\n",
       "      <td>0.00000</td>\n",
       "    </tr>\n",
       "    <tr>\n",
       "      <th>10</th>\n",
       "      <td>World</td>\n",
       "      <td>OWID_WRL</td>\n",
       "      <td>1990</td>\n",
       "      <td>74.90692</td>\n",
       "      <td>7.05937</td>\n",
       "    </tr>\n",
       "    <tr>\n",
       "      <th>20</th>\n",
       "      <td>World</td>\n",
       "      <td>OWID_WRL</td>\n",
       "      <td>2000</td>\n",
       "      <td>80.97918</td>\n",
       "      <td>6.07226</td>\n",
       "    </tr>\n",
       "    <tr>\n",
       "      <th>25</th>\n",
       "      <td>World</td>\n",
       "      <td>OWID_WRL</td>\n",
       "      <td>2005</td>\n",
       "      <td>82.45471</td>\n",
       "      <td>1.47553</td>\n",
       "    </tr>\n",
       "    <tr>\n",
       "      <th>26</th>\n",
       "      <td>World</td>\n",
       "      <td>OWID_WRL</td>\n",
       "      <td>2006</td>\n",
       "      <td>82.42525</td>\n",
       "      <td>-0.02946</td>\n",
       "    </tr>\n",
       "    <tr>\n",
       "      <th>43</th>\n",
       "      <td>World</td>\n",
       "      <td>OWID_WRL</td>\n",
       "      <td>2023</td>\n",
       "      <td>87.35600</td>\n",
       "      <td>4.93075</td>\n",
       "    </tr>\n",
       "  </tbody>\n",
       "</table>\n",
       "</div>"
      ],
      "text/plain": [
       "   Entity      Code  Year  Literacy rate   change\n",
       "0   World  OWID_WRL  1980       67.84755  0.00000\n",
       "10  World  OWID_WRL  1990       74.90692  7.05937\n",
       "20  World  OWID_WRL  2000       80.97918  6.07226\n",
       "25  World  OWID_WRL  2005       82.45471  1.47553\n",
       "26  World  OWID_WRL  2006       82.42525 -0.02946\n",
       "43  World  OWID_WRL  2023       87.35600  4.93075"
      ]
     },
     "execution_count": 6,
     "metadata": {},
     "output_type": "execute_result"
    }
   ],
   "source": [
    "literacy_example"
   ]
  },
  {
   "cell_type": "code",
   "execution_count": 7,
   "metadata": {},
   "outputs": [],
   "source": [
    "glyph2 = FaceGlyph()\n",
    "glyph2.add_data(data=literacy_example, eye_size = \"Literacy rate\", emotion=\"change\", emotion_keep_sign=True)"
   ]
  },
  {
   "cell_type": "code",
   "execution_count": 8,
   "metadata": {},
   "outputs": [
    {
     "name": "stdout",
     "output_type": "stream",
     "text": [
      "\\faceglyph{0}{0}{0.0}{0}{0}{0}{\\happiness{0.0}}\n",
      "\\faceglyph{0}{0}{0.362}{0}{0}{0}{\\happiness{1.0}}\n",
      "\\faceglyph{0}{0}{0.673}{0}{0}{0}{\\happiness{0.86}}\n",
      "\\faceglyph{0}{0}{0.749}{0}{0}{0}{\\happiness{0.209}}\n",
      "\\faceglyph{0}{0}{0.747}{0}{0}{0}{\\sadness{1.0}}\n",
      "\\faceglyph{0}{0}{1.0}{0}{0}{0}{\\happiness{0.698}}\n"
     ]
    }
   ],
   "source": [
    "for i in range(6):\n",
    "    glyph2.latex(i)"
   ]
  },
  {
   "cell_type": "markdown",
   "metadata": {},
   "source": [
    "# Time spent with age"
   ]
  },
  {
   "cell_type": "code",
   "execution_count": 9,
   "metadata": {},
   "outputs": [],
   "source": [
    "time_spent = pd.read_csv(\"time-spent-with-relationships-by-age-us.csv\")\n",
    "time_spent_ex = time_spent.iloc[[0,5,15,65]]"
   ]
  },
  {
   "cell_type": "code",
   "execution_count": 10,
   "metadata": {},
   "outputs": [],
   "source": [
    "time_spent_ex[['Time spent alone, by age of respondent (United States)',\n",
    "       'Time spent with friends, by age of respondent (United States)',\n",
    "       'Time spent with children, by age of respondent (United States)',\n",
    "       'Time spent with with parents, siblings and other family, by age of respondent (United States)',\n",
    "       'Time spent with partner, by age of respondent (United States)',\n",
    "       'Time spent with coworkers, by age of respondent (United States)']] = time_spent_ex[['Time spent alone, by age of respondent (United States)',\n",
    "       'Time spent with friends, by age of respondent (United States)',\n",
    "       'Time spent with children, by age of respondent (United States)',\n",
    "       'Time spent with with parents, siblings and other family, by age of respondent (United States)',\n",
    "       'Time spent with partner, by age of respondent (United States)',\n",
    "       'Time spent with coworkers, by age of respondent (United States)']].astype(float)"
   ]
  },
  {
   "cell_type": "code",
   "execution_count": 12,
   "metadata": {},
   "outputs": [],
   "source": [
    "glyph3 = FaceGlyph()\n",
    "glyph3.add_data(data = time_spent_ex, \n",
    "                facesize = 'Time spent with children, by age of respondent (United States)',\n",
    "                eyebrows = 'Time spent with partner, by age of respondent (United States)',\n",
    "                eye_size = \"Time spent alone, by age of respondent (United States)\",\n",
    "                eye_slant = 'Time spent with coworkers, by age of respondent (United States)',\n",
    "                nose = 'Time spent with friends, by age of respondent (United States)',\n",
    "                mouth = 'Time spent with with parents, siblings and other family, by age of respondent (United States)',\n",
    "                )"
   ]
  },
  {
   "cell_type": "code",
   "execution_count": 13,
   "metadata": {},
   "outputs": [
    {
     "name": "stdout",
     "output_type": "stream",
     "text": [
      "\\faceglyph{0.0}{0.0}{0.0}{-0.97}{0.847}{1.0}{\\neutral}\n",
      "\\faceglyph{0.177}{0.116}{0.297}{0.318}{1.0}{0.532}{\\neutral}\n",
      "\\faceglyph{1.0}{0.793}{0.2}{1.0}{0.205}{0.032}{\\neutral}\n",
      "\\faceglyph{0.122}{1.0}{1.0}{-1.0}{0.0}{0.0}{\\neutral}\n"
     ]
    }
   ],
   "source": [
    "for i in range(4):\n",
    "    glyph3.latex(i)"
   ]
  },
  {
   "cell_type": "markdown",
   "metadata": {},
   "source": [
    "# Air pollution UK"
   ]
  },
  {
   "cell_type": "code",
   "execution_count": 14,
   "metadata": {},
   "outputs": [],
   "source": [
    "air_poll = pd.read_csv(\"air-pollutant-emissions.csv\")\n",
    "air_poll_ex = air_poll.iloc[[0,20,46]]\n",
    "air_poll_ex.loc[:,\"total\"] = air_poll_ex.sum(axis=1,numeric_only=True)\n",
    "first_total = air_poll_ex.loc[0,\"total\"]\n",
    "air_poll_ex.loc[:,\"total_decline_abs\"] = first_total-np.array(list(air_poll_ex.loc[:,\"total\"]))"
   ]
  },
  {
   "cell_type": "code",
   "execution_count": 15,
   "metadata": {},
   "outputs": [],
   "source": [
    "glyph4 = FaceGlyph()\n",
    "glyph4.add_data(data=air_poll_ex, mouth= 'Nitrogen oxides (NOx)', eyebrows='Sulphur dioxide (SO₂)',\n",
    "                 eye_size='Non-methane volatile organic compounds (VOCs)', emotion = \"total_decline_abs\", emotion_keep_sign=True)"
   ]
  },
  {
   "cell_type": "code",
   "execution_count": 16,
   "metadata": {},
   "outputs": [
    {
     "name": "stdout",
     "output_type": "stream",
     "text": [
      "\\faceglyph{0}{1.0}{0.775}{0}{0}{1.0}{\\happiness{0.0}}\n",
      "\\faceglyph{0}{0.569}{1.0}{0}{0}{0.956}{\\happiness{0.233}}\n",
      "\\faceglyph{0}{0.0}{0.0}{0}{0}{0.0}{\\happiness{1.0}}\n"
     ]
    }
   ],
   "source": [
    "for i in range(3):\n",
    "    glyph4.latex(i)"
   ]
  }
 ],
 "metadata": {
  "kernelspec": {
   "display_name": "numericsenv",
   "language": "python",
   "name": "python3"
  },
  "language_info": {
   "codemirror_mode": {
    "name": "ipython",
    "version": 3
   },
   "file_extension": ".py",
   "mimetype": "text/x-python",
   "name": "python",
   "nbconvert_exporter": "python",
   "pygments_lexer": "ipython3",
   "version": "3.11.9"
  }
 },
 "nbformat": 4,
 "nbformat_minor": 2
}
